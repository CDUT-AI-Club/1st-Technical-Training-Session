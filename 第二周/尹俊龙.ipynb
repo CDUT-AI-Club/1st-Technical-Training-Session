{
 "cells": [
  {
   "cell_type": "markdown",
   "metadata": {},
   "source": []
  },
  {
   "cell_type": "code",
   "execution_count": 1,
   "metadata": {},
   "outputs": [
    {
     "name": "stdout",
     "output_type": "stream",
     "text": [
      "张量 x: tensor([1., 2., 3.])\n",
      "张量 z (x + y): tensor([5., 7., 9.])\n"
     ]
    }
   ],
   "source": [
    "# 导入 PyTorch\n",
    "import torch\n",
    "\n",
    "# 创建一个张量\n",
    "x = torch.tensor([1.0, 2.0, 3.0])\n",
    "print(\"张量 x:\", x)\n",
    "\n",
    "# 张量加法\n",
    "y = torch.tensor([4.0, 5.0, 6.0])\n",
    "z = x + y\n",
    "print(\"张量 z (x + y):\", z)"
   ]
  },
  {
   "cell_type": "markdown",
   "metadata": {},
   "source": []
  },
  {
   "cell_type": "code",
   "execution_count": 2,
   "metadata": {},
   "outputs": [
    {
     "name": "stdout",
     "output_type": "stream",
     "text": [
      "张量 a:\n",
      "tensor([[ 0.6253, -0.2465,  0.5833],\n",
      "        [ 0.0542,  0.9521, -0.7355]])\n",
      "张量 b:\n",
      "tensor([[ 0.9798, -0.4585, -0.3305],\n",
      "        [ 1.0549,  0.0861, -0.5733]])\n",
      "a 和 b 的逐元素乘积:\n",
      "tensor([[ 0.6127,  0.1130, -0.1928],\n",
      "        [ 0.0572,  0.0820,  0.4217]])\n",
      "张量 a 所有元素的总和:\n",
      "tensor(1.2329)\n",
      "张量 a 第 2 行第 3 列的元素:\n",
      "tensor(-0.7355)\n",
      "张量 a 中的最大值:\n",
      "tensor(0.9521)\n"
     ]
    }
   ],
   "source": [
    "import torch\n",
    "\n",
    "# 设置数据类型和设备\n",
    "dtype = torch.float  # 张量数据类型为浮点型\n",
    "device = torch.device(\"cpu\")  # 本次计算在 CPU 上进行\n",
    "\n",
    "# 创建并打印两个随机张量 a 和 b\n",
    "a = torch.randn(2, 3, device=device, dtype=dtype)  # 创建一个 2x3 的随机张量\n",
    "b = torch.randn(2, 3, device=device, dtype=dtype)  # 创建另一个 2x3 的随机张量\n",
    "\n",
    "print(\"张量 a:\")\n",
    "print(a)\n",
    "\n",
    "print(\"张量 b:\")\n",
    "print(b)\n",
    "\n",
    "# 逐元素相乘并输出结果\n",
    "print(\"a 和 b 的逐元素乘积:\")\n",
    "print(a * b)\n",
    "\n",
    "# 输出张量 a 所有元素的总和\n",
    "print(\"张量 a 所有元素的总和:\")\n",
    "print(a.sum())\n",
    "\n",
    "# 输出张量 a 中第 2 行第 3 列的元素（注意索引从 0 开始）\n",
    "print(\"张量 a 第 2 行第 3 列的元素:\")\n",
    "print(a[1, 2])\n",
    "\n",
    "# 输出张量 a 中的最大值\n",
    "print(\"张量 a 中的最大值:\")\n",
    "print(a.max())"
   ]
  }
 ],
 "metadata": {
  "kernelspec": {
   "display_name": "Python 3",
   "language": "python",
   "name": "python3"
  },
  "language_info": {
   "codemirror_mode": {
    "name": "ipython",
    "version": 3
   },
   "file_extension": ".py",
   "mimetype": "text/x-python",
   "name": "python",
   "nbconvert_exporter": "python",
   "pygments_lexer": "ipython3",
   "version": "3.8.20"
  }
 },
 "nbformat": 4,
 "nbformat_minor": 2
}
